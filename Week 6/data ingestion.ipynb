{
 "cells": [
  {
   "cell_type": "code",
   "execution_count": 16,
   "id": "752c9d22",
   "metadata": {},
   "outputs": [
    {
     "name": "stderr",
     "output_type": "stream",
     "text": [
      "Appending Rows: 100%|████████████████████████████████████████████████████| 10737418/10737418 [31:59<00:00, 5594.65it/s]\n"
     ]
    }
   ],
   "source": [
    "import pandas as pd\n",
    "import os\n",
    "import random\n",
    "import string\n",
    "from tqdm import tqdm  # Import tqdm for the progress bar\n",
    "\n",
    "# Specify the path to the existing dataset\n",
    "existing_dataset_path = \"books.csv\"\n",
    "\n",
    "# Define the target file size in bytes (3 GB)\n",
    "target_file_size = 3 * 1024 * 1024 * 1024  # 3 GB\n",
    "\n",
    "# Estimate the size of each row in bytes (adjust this based on your data)\n",
    "# For simplicity, let's assume each row contributes around 300 bytes to the file size\n",
    "estimated_row_size = 300\n",
    "\n",
    "# Calculate the number of rows needed to reach the target file size\n",
    "rows_to_add = int(target_file_size // estimated_row_size)\n",
    "\n",
    "# Create a temporary file to store the new data\n",
    "temp_file_path = \"temp_dataset.csv\"\n",
    "\n",
    "# Open the existing dataset and create a new temporary file\n",
    "with open(existing_dataset_path, 'r') as existing_file, open(temp_file_path, 'w') as temp_file:\n",
    "    # Copy the header from the existing dataset to the temporary file\n",
    "    header = existing_file.readline()\n",
    "    temp_file.write(header)\n",
    "\n",
    "    # Iterate over the existing dataset and copy rows to the temporary file\n",
    "    for line in existing_file:\n",
    "        temp_file.write(line)\n",
    "\n",
    "    # Create a tqdm progress bar for appending new rows\n",
    "    progress_bar = tqdm(total=rows_to_add, desc=\"Appending Rows\")\n",
    "\n",
    "    # Generate and append new rows to the temporary file to reach the target size\n",
    "    for _ in range(rows_to_add):\n",
    "        row_id = ''.join(random.choice(string.ascii_letters) for _ in range(10))\n",
    "        data = ''.join(random.choice(string.ascii_letters) for _ in range(100))\n",
    "        new_row = f\"{row_id},{data}\\n\"\n",
    "        temp_file.write(new_row)\n",
    "        \n",
    "        # Update the progress bar\n",
    "        progress_bar.update(1)\n",
    "\n",
    "    # Close the progress bar\n",
    "    progress_bar.close()\n",
    "\n",
    "os.replace(temp_file_path, existing_dataset_path)\n",
    "\n"
   ]
  },
  {
   "cell_type": "code",
   "execution_count": 1,
   "id": "3e5faca4",
   "metadata": {},
   "outputs": [
    {
     "name": "stderr",
     "output_type": "stream",
     "text": [
      "C:\\Users\\97798\\AppData\\Local\\Temp\\ipykernel_10396\\1290218973.py:5: DtypeWarning: Columns (2) have mixed types. Specify dtype option on import or set low_memory=False.\n",
      "  df = pd.read_csv('books.csv')\n"
     ]
    },
    {
     "name": "stdout",
     "output_type": "stream",
     "text": [
      "Pandas took 83.32999444007874 seconds to read the file.\n"
     ]
    }
   ],
   "source": [
    "import pandas as pd\n",
    "import time\n",
    "\n",
    "start_time = time.time()\n",
    "df = pd.read_csv('books.csv')\n",
    "end_time = time.time()\n",
    "\n",
    "execution_time = end_time - start_time\n",
    "print(f\"Pandas took {execution_time} seconds to read the file.\")\n"
   ]
  },
  {
   "cell_type": "code",
   "execution_count": 3,
   "id": "a6035f45",
   "metadata": {},
   "outputs": [
    {
     "name": "stderr",
     "output_type": "stream",
     "text": [
      "C:\\Users\\97798\\anaconda3\\lib\\site-packages\\dask\\dataframe\\io\\csv.py:195: DtypeWarning: Columns (2) have mixed types. Specify dtype option on import or set low_memory=False.\n",
      "  df = reader(bio, **kwargs)\n"
     ]
    },
    {
     "name": "stdout",
     "output_type": "stream",
     "text": [
      "Dask took 76.67320609092712 seconds to read the file.\n"
     ]
    }
   ],
   "source": [
    "import dask.dataframe as dd\n",
    "import time\n",
    "\n",
    "start_time = time.time()\n",
    "df = dd.read_csv('books.csv')\n",
    "df = df.compute()\n",
    "end_time = time.time()\n",
    "\n",
    "execution_time = end_time - start_time\n",
    "print(f\"Dask took {execution_time} seconds to read the file.\")\n"
   ]
  },
  {
   "cell_type": "code",
   "execution_count": 4,
   "id": "0f4d36f1",
   "metadata": {},
   "outputs": [
    {
     "name": "stdout",
     "output_type": "stream",
     "text": [
      "<class 'pandas.core.frame.DataFrame'>\n",
      "RangeIndex: 11737437 entries, 0 to 11737436\n",
      "Data columns (total 3 columns):\n",
      " #   Column       Dtype \n",
      "---  ------       ----- \n",
      " 0   Book Title   object\n",
      " 1   Author Name  object\n",
      " 2   Runtime      object\n",
      "dtypes: object(3)\n",
      "memory usage: 2.8 GB\n"
     ]
    }
   ],
   "source": [
    "data.info(memory_usage=\"deep\")"
   ]
  },
  {
   "cell_type": "code",
   "execution_count": 17,
   "id": "c03bf5c8",
   "metadata": {},
   "outputs": [
    {
     "name": "stdout",
     "output_type": "stream",
     "text": [
      "Writing testutility.py\n"
     ]
    }
   ],
   "source": [
    "%%writefile testutility.py\n",
    "import logging\n",
    "import os\n",
    "import subprocess\n",
    "import yaml\n",
    "import pandas as pd\n",
    "import datetime \n",
    "import gc\n",
    "import re\n",
    "\n",
    "\n",
    "################\n",
    "# File Reading #\n",
    "################\n",
    "\n",
    "def read_config_file(filepath):\n",
    "    with open(filepath, 'r') as stream:\n",
    "        try:\n",
    "            return yaml.safe_load(stream)\n",
    "        except yaml.YAMLError as exc:\n",
    "            logging.error(exc)\n",
    "\n",
    "\n",
    "def replacer(string, char):\n",
    "    pattern = char + '{2,}'\n",
    "    string = re.sub(pattern, char, string) \n",
    "    return string\n",
    "\n",
    "def col_header_val(df,table_config):\n",
    "    '''\n",
    "    replace whitespaces in the column\n",
    "    and standardized column names\n",
    "    '''\n",
    "    df.columns = df.columns.str.lower()\n",
    "    df.columns = df.columns.str.replace('[^\\w]','_',regex=True)\n",
    "    df.columns = list(map(lambda x: x.strip('_'), list(df.columns)))\n",
    "    df.columns = list(map(lambda x: replacer(x,'_'), list(df.columns)))\n",
    "    expected_col = list(map(lambda x: x.lower(),  table_config['columns']))\n",
    "    expected_col.sort()\n",
    "    df.columns =list(map(lambda x: x.lower(), list(df.columns)))\n",
    "    df = df.reindex(sorted(df.columns), axis=1)\n",
    "    if len(df.columns) == len(expected_col) and list(expected_col)  == list(df.columns):\n",
    "        print(\"column name and column length validation passed\")\n",
    "        return 1\n",
    "    else:\n",
    "        print(\"column name and column length validation failed\")\n",
    "        mismatched_columns_file = list(set(df.columns).difference(expected_col))\n",
    "        print(\"Following File columns are not in the YAML file\",mismatched_columns_file)\n",
    "        missing_YAML_file = list(set(expected_col).difference(df.columns))\n",
    "        print(\"Following YAML columns are not in the file uploaded\",missing_YAML_file)\n",
    "        logging.info(f'df columns: {df.columns}')\n",
    "        logging.info(f'expected columns: {expected_col}')\n",
    "        return 0"
   ]
  },
  {
   "cell_type": "code",
   "execution_count": 36,
   "id": "7571a8ac",
   "metadata": {},
   "outputs": [
    {
     "name": "stdout",
     "output_type": "stream",
     "text": [
      "Overwriting file.yaml\n"
     ]
    }
   ],
   "source": [
    "%%writefile file.yaml\n",
    "file_type: csv\n",
    "dataset_name: books\n",
    "file_name: books\n",
    "table_name: edsurv\n",
    "inbound_delimiter: \",\"\n",
    "outbound_delimiter: \"|\"\n",
    "skip_leading_rows: 1\n",
    "columns: \n",
    "    - book_title\n",
    "    - author_name\n",
    "    - runtime"
   ]
  },
  {
   "cell_type": "code",
   "execution_count": 37,
   "id": "0d732f4a",
   "metadata": {},
   "outputs": [],
   "source": [
    "# Read config file\n",
    "import testutility as util\n",
    "config_data = util.read_config_file(\"file.yaml\")"
   ]
  },
  {
   "cell_type": "code",
   "execution_count": 38,
   "id": "00f4a3e5",
   "metadata": {},
   "outputs": [
    {
     "data": {
      "text/plain": [
       "','"
      ]
     },
     "execution_count": 38,
     "metadata": {},
     "output_type": "execute_result"
    }
   ],
   "source": [
    "config_data['inbound_delimiter']\n"
   ]
  },
  {
   "cell_type": "code",
   "execution_count": 39,
   "id": "7350a9e4",
   "metadata": {},
   "outputs": [
    {
     "data": {
      "text/plain": [
       "{'file_type': 'csv',\n",
       " 'dataset_name': 'books',\n",
       " 'file_name': 'books',\n",
       " 'table_name': 'edsurv',\n",
       " 'inbound_delimiter': ',',\n",
       " 'outbound_delimiter': '|',\n",
       " 'skip_leading_rows': 1,\n",
       " 'columns': ['book_title', 'author_name', 'runtime']}"
      ]
     },
     "execution_count": 39,
     "metadata": {},
     "output_type": "execute_result"
    }
   ],
   "source": [
    "config_data\n"
   ]
  },
  {
   "cell_type": "code",
   "execution_count": 25,
   "id": "54617532",
   "metadata": {},
   "outputs": [
    {
     "name": "stderr",
     "output_type": "stream",
     "text": [
      "C:\\Users\\97798\\AppData\\Local\\Temp\\ipykernel_9808\\3258300403.py:3: DtypeWarning: Columns (2) have mixed types. Specify dtype option on import or set low_memory=False.\n",
      "  df_sample = pd.read_csv(\"books.csv\",delimiter=',')\n"
     ]
    },
    {
     "data": {
      "text/html": [
       "<div>\n",
       "<style scoped>\n",
       "    .dataframe tbody tr th:only-of-type {\n",
       "        vertical-align: middle;\n",
       "    }\n",
       "\n",
       "    .dataframe tbody tr th {\n",
       "        vertical-align: top;\n",
       "    }\n",
       "\n",
       "    .dataframe thead th {\n",
       "        text-align: right;\n",
       "    }\n",
       "</style>\n",
       "<table border=\"1\" class=\"dataframe\">\n",
       "  <thead>\n",
       "    <tr style=\"text-align: right;\">\n",
       "      <th></th>\n",
       "      <th>Book Title</th>\n",
       "      <th>Author Name</th>\n",
       "      <th>Runtime</th>\n",
       "    </tr>\n",
       "  </thead>\n",
       "  <tbody>\n",
       "    <tr>\n",
       "      <th>0</th>\n",
       "      <td>Warrior Fae</td>\n",
       "      <td>Caroline Peckham, Susanne Valenti</td>\n",
       "      <td>29 hrs and 37 mins</td>\n",
       "    </tr>\n",
       "    <tr>\n",
       "      <th>1</th>\n",
       "      <td>Choose Your Enemies</td>\n",
       "      <td>Sandy Mitchell</td>\n",
       "      <td>10 hrs and 4 mins</td>\n",
       "    </tr>\n",
       "    <tr>\n",
       "      <th>2</th>\n",
       "      <td>The Ritual</td>\n",
       "      <td>Shantel Tessier</td>\n",
       "      <td>16 hrs and 46 mins</td>\n",
       "    </tr>\n",
       "    <tr>\n",
       "      <th>3</th>\n",
       "      <td>Reckless</td>\n",
       "      <td>Elsie Silver</td>\n",
       "      <td>9 hrs and 58 mins</td>\n",
       "    </tr>\n",
       "    <tr>\n",
       "      <th>4</th>\n",
       "      <td>The Puppeteers</td>\n",
       "      <td>Jason Chaffetz</td>\n",
       "      <td>8 hrs and 49 mins</td>\n",
       "    </tr>\n",
       "  </tbody>\n",
       "</table>\n",
       "</div>"
      ],
      "text/plain": [
       "            Book Title                        Author Name             Runtime\n",
       "0          Warrior Fae  Caroline Peckham, Susanne Valenti  29 hrs and 37 mins\n",
       "1  Choose Your Enemies                     Sandy Mitchell   10 hrs and 4 mins\n",
       "2           The Ritual                    Shantel Tessier  16 hrs and 46 mins\n",
       "3             Reckless                       Elsie Silver   9 hrs and 58 mins\n",
       "4       The Puppeteers                     Jason Chaffetz   8 hrs and 49 mins"
      ]
     },
     "execution_count": 25,
     "metadata": {},
     "output_type": "execute_result"
    }
   ],
   "source": [
    "# Normal reading process of the file\n",
    "import pandas as pd\n",
    "df_sample = pd.read_csv(\"books.csv\",delimiter=',')\n",
    "df_sample.head()"
   ]
  },
  {
   "cell_type": "code",
   "execution_count": 40,
   "id": "ebbd2c0e",
   "metadata": {},
   "outputs": [
    {
     "name": "stderr",
     "output_type": "stream",
     "text": [
      "C:\\Users\\97798\\AppData\\Local\\Temp\\ipykernel_9808\\56779893.py:5: DtypeWarning: Columns (2) have mixed types. Specify dtype option on import or set low_memory=False.\n",
      "  df = pd.read_csv(source_file, delimiter=delimiter)\n"
     ]
    },
    {
     "data": {
      "text/html": [
       "<div>\n",
       "<style scoped>\n",
       "    .dataframe tbody tr th:only-of-type {\n",
       "        vertical-align: middle;\n",
       "    }\n",
       "\n",
       "    .dataframe tbody tr th {\n",
       "        vertical-align: top;\n",
       "    }\n",
       "\n",
       "    .dataframe thead th {\n",
       "        text-align: right;\n",
       "    }\n",
       "</style>\n",
       "<table border=\"1\" class=\"dataframe\">\n",
       "  <thead>\n",
       "    <tr style=\"text-align: right;\">\n",
       "      <th></th>\n",
       "      <th>Book Title</th>\n",
       "      <th>Author Name</th>\n",
       "      <th>Runtime</th>\n",
       "    </tr>\n",
       "  </thead>\n",
       "  <tbody>\n",
       "    <tr>\n",
       "      <th>0</th>\n",
       "      <td>Warrior Fae</td>\n",
       "      <td>Caroline Peckham, Susanne Valenti</td>\n",
       "      <td>29 hrs and 37 mins</td>\n",
       "    </tr>\n",
       "    <tr>\n",
       "      <th>1</th>\n",
       "      <td>Choose Your Enemies</td>\n",
       "      <td>Sandy Mitchell</td>\n",
       "      <td>10 hrs and 4 mins</td>\n",
       "    </tr>\n",
       "    <tr>\n",
       "      <th>2</th>\n",
       "      <td>The Ritual</td>\n",
       "      <td>Shantel Tessier</td>\n",
       "      <td>16 hrs and 46 mins</td>\n",
       "    </tr>\n",
       "    <tr>\n",
       "      <th>3</th>\n",
       "      <td>Reckless</td>\n",
       "      <td>Elsie Silver</td>\n",
       "      <td>9 hrs and 58 mins</td>\n",
       "    </tr>\n",
       "    <tr>\n",
       "      <th>4</th>\n",
       "      <td>The Puppeteers</td>\n",
       "      <td>Jason Chaffetz</td>\n",
       "      <td>8 hrs and 49 mins</td>\n",
       "    </tr>\n",
       "  </tbody>\n",
       "</table>\n",
       "</div>"
      ],
      "text/plain": [
       "            Book Title                        Author Name             Runtime\n",
       "0          Warrior Fae  Caroline Peckham, Susanne Valenti  29 hrs and 37 mins\n",
       "1  Choose Your Enemies                     Sandy Mitchell   10 hrs and 4 mins\n",
       "2           The Ritual                    Shantel Tessier  16 hrs and 46 mins\n",
       "3             Reckless                       Elsie Silver   9 hrs and 58 mins\n",
       "4       The Puppeteers                     Jason Chaffetz   8 hrs and 49 mins"
      ]
     },
     "execution_count": 40,
     "metadata": {},
     "output_type": "execute_result"
    }
   ],
   "source": [
    "file_type = config_data['file_type']\n",
    "source_file = \"./\" + config_data['file_name'] + f'.{file_type}'\n",
    "delimiter = config_data['inbound_delimiter']\n",
    "\n",
    "df = pd.read_csv(source_file, delimiter=delimiter)\n",
    "df.head()"
   ]
  },
  {
   "cell_type": "code",
   "execution_count": 43,
   "id": "4ecdb5d9",
   "metadata": {},
   "outputs": [
    {
     "name": "stdout",
     "output_type": "stream",
     "text": [
      "column name and column length validation passed\n"
     ]
    },
    {
     "data": {
      "text/plain": [
       "1"
      ]
     },
     "execution_count": 43,
     "metadata": {},
     "output_type": "execute_result"
    }
   ],
   "source": [
    "util.col_header_val(df,config_data)"
   ]
  },
  {
   "cell_type": "code",
   "execution_count": 44,
   "id": "f0a0fc46",
   "metadata": {},
   "outputs": [
    {
     "name": "stdout",
     "output_type": "stream",
     "text": [
      "columns of files are: Index(['book_title', 'author_name', 'runtime'], dtype='object')\n",
      "columns of YAML are: ['book_title', 'author_name', 'runtime']\n"
     ]
    }
   ],
   "source": [
    "print(\"columns of files are:\" ,df.columns)\n",
    "print(\"columns of YAML are:\" ,config_data['columns'])"
   ]
  },
  {
   "cell_type": "code",
   "execution_count": 45,
   "id": "abff0fb7",
   "metadata": {},
   "outputs": [
    {
     "name": "stdout",
     "output_type": "stream",
     "text": [
      "column name and column length validation passed\n",
      "col validation passed\n"
     ]
    }
   ],
   "source": [
    "if util.col_header_val(df,config_data)==0:\n",
    "    print(\"validation failed\")\n",
    "    # write code to reject the file\n",
    "else:\n",
    "    print(\"col validation passed\")\n",
    "    # write the code to perform further action\n",
    "    # in the pipleine"
   ]
  },
  {
   "cell_type": "code",
   "execution_count": 47,
   "id": "44288ba8",
   "metadata": {},
   "outputs": [],
   "source": [
    "### Creating test file for this demo:\n",
    "testdata = {\n",
    "    'Book Title' : ['a','b','c','d','e'],\n",
    "    'Author Name' : ['a','b','c','d','e'],\n",
    "    'Runtime' : [34, 30, 16,33,22],\n",
    "}\n",
    "import pandas as pd\n",
    "df = pd.DataFrame(testdata, columns=['Book Title', 'Author Name','Runtime'])\n",
    "df.to_csv(\"test_data_ingestion.csv\",index=False)"
   ]
  },
  {
   "cell_type": "code",
   "execution_count": 48,
   "id": "c6376946",
   "metadata": {},
   "outputs": [
    {
     "data": {
      "text/plain": [
       "{'Book Title': ['a', 'b', 'c', 'd', 'e'],\n",
       " 'Author Name': ['a', 'b', 'c', 'd', 'e'],\n",
       " 'Runtime': [34, 30, 16, 33, 22]}"
      ]
     },
     "execution_count": 48,
     "metadata": {},
     "output_type": "execute_result"
    }
   ],
   "source": [
    "testdata\n"
   ]
  },
  {
   "cell_type": "code",
   "execution_count": 5,
   "id": "6d507aca",
   "metadata": {},
   "outputs": [
    {
     "name": "stdout",
     "output_type": "stream",
     "text": [
      "Collecting modin\n",
      "  Downloading modin-0.23.1-py3-none-any.whl (1.1 MB)\n",
      "Collecting pandas<2.1,>=2\n",
      "  Downloading pandas-2.0.3-cp39-cp39-win_amd64.whl (10.8 MB)\n",
      "Requirement already satisfied: psutil>=5.8.0 in c:\\users\\97798\\anaconda3\\lib\\site-packages (from modin) (5.8.0)\n",
      "Requirement already satisfied: fsspec>=2021.07.0 in c:\\users\\97798\\anaconda3\\lib\\site-packages (from modin) (2022.2.0)\n",
      "Requirement already satisfied: numpy>=1.20.3 in c:\\users\\97798\\anaconda3\\lib\\site-packages (from modin) (1.23.5)\n",
      "Requirement already satisfied: packaging>=21.0 in c:\\users\\97798\\anaconda3\\lib\\site-packages (from modin) (21.3)\n",
      "Requirement already satisfied: pyparsing!=3.0.5,>=2.0.2 in c:\\users\\97798\\anaconda3\\lib\\site-packages (from packaging>=21.0->modin) (3.0.4)\n",
      "Requirement already satisfied: tzdata>=2022.1 in c:\\users\\97798\\anaconda3\\lib\\site-packages (from pandas<2.1,>=2->modin) (2023.3)\n",
      "Note: you may need to restart the kernel to use updated packages.Requirement already satisfied: pytz>=2020.1 in c:\\users\\97798\\anaconda3\\lib\\site-packages (from pandas<2.1,>=2->modin) (2021.3)\n",
      "Requirement already satisfied: python-dateutil>=2.8.2 in c:\\users\\97798\\anaconda3\\lib\\site-packages (from pandas<2.1,>=2->modin) (2.8.2)\n",
      "Requirement already satisfied: six>=1.5 in c:\\users\\97798\\anaconda3\\lib\\site-packages (from python-dateutil>=2.8.2->pandas<2.1,>=2->modin) (1.16.0)\n",
      "Installing collected packages: pandas, modin\n",
      "  Attempting uninstall: pandas\n",
      "    Found existing installation: pandas 2.1.0\n",
      "    Uninstalling pandas-2.1.0:\n",
      "      Successfully uninstalled pandas-2.1.0\n",
      "\n"
     ]
    },
    {
     "name": "stderr",
     "output_type": "stream",
     "text": [
      "WARNING: Ignoring invalid distribution -atplotlib (c:\\users\\97798\\anaconda3\\lib\\site-packages)\n",
      "WARNING: Ignoring invalid distribution -atplotlib (c:\\users\\97798\\anaconda3\\lib\\site-packages)\n",
      "WARNING: Ignoring invalid distribution -atplotlib (c:\\users\\97798\\anaconda3\\lib\\site-packages)\n",
      "    WARNING: Ignoring invalid distribution -atplotlib (c:\\users\\97798\\anaconda3\\lib\\site-packages)\n",
      "ERROR: Could not install packages due to an OSError: [WinError 5] Access is denied: 'C:\\\\Users\\\\97798\\\\anaconda3\\\\Lib\\\\site-packages\\\\~andas.libs\\\\msvcp140-59fdf63e48138046aebeb6ddb5b4e960.dll'\n",
      "Consider using the `--user` option or check the permissions.\n",
      "\n",
      "WARNING: Ignoring invalid distribution -atplotlib (c:\\users\\97798\\anaconda3\\lib\\site-packages)\n",
      "WARNING: Ignoring invalid distribution -atplotlib (c:\\users\\97798\\anaconda3\\lib\\site-packages)\n",
      "WARNING: Ignoring invalid distribution -atplotlib (c:\\users\\97798\\anaconda3\\lib\\site-packages)\n"
     ]
    }
   ],
   "source": [
    "pip install modin"
   ]
  },
  {
   "cell_type": "code",
   "execution_count": 7,
   "id": "2348c67f",
   "metadata": {},
   "outputs": [
    {
     "name": "stdout",
     "output_type": "stream",
     "text": [
      "Collecting modin[ray]\n",
      "Note: you may need to restart the kernel to use updated packages.  Using cached modin-0.23.1-py3-none-any.whl (1.1 MB)\n",
      "\n",
      "Requirement already satisfied: fsspec>=2021.07.0 in c:\\users\\97798\\anaconda3\\lib\\site-packages (from modin[ray]) (2022.2.0)\n",
      "Requirement already satisfied: pandas<2.1,>=2 in c:\\users\\97798\\anaconda3\\lib\\site-packages (from modin[ray]) (2.0.3)\n",
      "Requirement already satisfied: numpy>=1.20.3 in c:\\users\\97798\\anaconda3\\lib\\site-packages (from modin[ray]) (1.23.5)\n",
      "Requirement already satisfied: psutil>=5.8.0 in c:\\users\\97798\\anaconda3\\lib\\site-packages (from modin[ray]) (5.8.0)\n",
      "Requirement already satisfied: packaging>=21.0 in c:\\users\\97798\\anaconda3\\lib\\site-packages (from modin[ray]) (21.3)\n",
      "Requirement already satisfied: pydantic<2 in c:\\users\\97798\\anaconda3\\lib\\site-packages (from modin[ray]) (1.8.2)\n",
      "Collecting ray[default]!=2.5.0,>=1.13.0\n",
      "  Downloading ray-2.6.3-cp39-cp39-win_amd64.whl (22.4 MB)\n",
      "Collecting pyarrow>=7.0.0\n",
      "  Downloading pyarrow-13.0.0-cp39-cp39-win_amd64.whl (24.4 MB)\n",
      "Requirement already satisfied: pyparsing!=3.0.5,>=2.0.2 in c:\\users\\97798\\anaconda3\\lib\\site-packages (from packaging>=21.0->modin[ray]) (3.0.4)\n",
      "Requirement already satisfied: python-dateutil>=2.8.2 in c:\\users\\97798\\anaconda3\\lib\\site-packages (from pandas<2.1,>=2->modin[ray]) (2.8.2)\n",
      "Requirement already satisfied: tzdata>=2022.1 in c:\\users\\97798\\anaconda3\\lib\\site-packages (from pandas<2.1,>=2->modin[ray]) (2023.3)\n",
      "Requirement already satisfied: pytz>=2020.1 in c:\\users\\97798\\anaconda3\\lib\\site-packages (from pandas<2.1,>=2->modin[ray]) (2021.3)\n",
      "Requirement already satisfied: typing-extensions>=3.7.4.3 in c:\\users\\97798\\anaconda3\\lib\\site-packages (from pydantic<2->modin[ray]) (4.4.0)\n",
      "Requirement already satisfied: six>=1.5 in c:\\users\\97798\\anaconda3\\lib\\site-packages (from python-dateutil>=2.8.2->pandas<2.1,>=2->modin[ray]) (1.16.0)\n",
      "Requirement already satisfied: protobuf!=3.19.5,>=3.15.3 in c:\\users\\97798\\anaconda3\\lib\\site-packages (from ray[default]!=2.5.0,>=1.13.0->modin[ray]) (3.19.1)\n",
      "Requirement already satisfied: click>=7.0 in c:\\users\\97798\\anaconda3\\lib\\site-packages (from ray[default]!=2.5.0,>=1.13.0->modin[ray]) (8.0.4)\n",
      "Requirement already satisfied: filelock in c:\\users\\97798\\anaconda3\\lib\\site-packages (from ray[default]!=2.5.0,>=1.13.0->modin[ray]) (3.6.0)\n",
      "Requirement already satisfied: requests in c:\\users\\97798\\anaconda3\\lib\\site-packages (from ray[default]!=2.5.0,>=1.13.0->modin[ray]) (2.27.1)\n",
      "Requirement already satisfied: aiosignal in c:\\users\\97798\\anaconda3\\lib\\site-packages (from ray[default]!=2.5.0,>=1.13.0->modin[ray]) (1.2.0)\n",
      "Requirement already satisfied: msgpack<2.0.0,>=1.0.0 in c:\\users\\97798\\anaconda3\\lib\\site-packages (from ray[default]!=2.5.0,>=1.13.0->modin[ray]) (1.0.2)\n",
      "Requirement already satisfied: jsonschema in c:\\users\\97798\\anaconda3\\lib\\site-packages (from ray[default]!=2.5.0,>=1.13.0->modin[ray]) (4.4.0)\n",
      "Requirement already satisfied: frozenlist in c:\\users\\97798\\anaconda3\\lib\\site-packages (from ray[default]!=2.5.0,>=1.13.0->modin[ray]) (1.2.0)\n",
      "Requirement already satisfied: grpcio>=1.32.0 in c:\\users\\97798\\anaconda3\\lib\\site-packages (from ray[default]!=2.5.0,>=1.13.0->modin[ray]) (1.42.0)\n",
      "Requirement already satisfied: pyyaml in c:\\users\\97798\\anaconda3\\lib\\site-packages (from ray[default]!=2.5.0,>=1.13.0->modin[ray]) (6.0)\n",
      "Collecting gpustat>=1.0.0\n",
      "  Downloading gpustat-1.1.1.tar.gz (98 kB)\n",
      "  Installing build dependencies: started\n",
      "  Installing build dependencies: finished with status 'done'\n",
      "  Getting requirements to build wheel: started\n",
      "  Getting requirements to build wheel: finished with status 'done'\n",
      "    Preparing wheel metadata: started\n",
      "    Preparing wheel metadata: finished with status 'done'\n",
      "Collecting virtualenv<20.21.1,>=20.0.24\n",
      "  Downloading virtualenv-20.21.0-py3-none-any.whl (8.7 MB)\n",
      "Requirement already satisfied: prometheus-client>=0.7.1 in c:\\users\\97798\\anaconda3\\lib\\site-packages (from ray[default]!=2.5.0,>=1.13.0->modin[ray]) (0.13.1)\n",
      "Requirement already satisfied: aiohttp>=3.7 in c:\\users\\97798\\anaconda3\\lib\\site-packages (from ray[default]!=2.5.0,>=1.13.0->modin[ray]) (3.8.1)\n",
      "Collecting opencensus\n",
      "  Downloading opencensus-0.11.2-py2.py3-none-any.whl (128 kB)\n",
      "Requirement already satisfied: smart-open in c:\\users\\97798\\anaconda3\\lib\\site-packages (from ray[default]!=2.5.0,>=1.13.0->modin[ray]) (5.1.0)\n",
      "Collecting py-spy>=0.2.0\n",
      "  Downloading py_spy-0.3.14-py2.py3-none-win_amd64.whl (1.4 MB)\n",
      "Collecting aiohttp-cors\n",
      "  Downloading aiohttp_cors-0.7.0-py3-none-any.whl (27 kB)\n",
      "Collecting colorful\n",
      "  Downloading colorful-0.5.5-py2.py3-none-any.whl (201 kB)\n",
      "Requirement already satisfied: charset-normalizer<3.0,>=2.0 in c:\\users\\97798\\anaconda3\\lib\\site-packages (from aiohttp>=3.7->ray[default]!=2.5.0,>=1.13.0->modin[ray]) (2.0.4)\n",
      "Requirement already satisfied: yarl<2.0,>=1.0 in c:\\users\\97798\\anaconda3\\lib\\site-packages (from aiohttp>=3.7->ray[default]!=2.5.0,>=1.13.0->modin[ray]) (1.6.3)\n",
      "Requirement already satisfied: async-timeout<5.0,>=4.0.0a3 in c:\\users\\97798\\anaconda3\\lib\\site-packages (from aiohttp>=3.7->ray[default]!=2.5.0,>=1.13.0->modin[ray]) (4.0.1)\n",
      "Requirement already satisfied: attrs>=17.3.0 in c:\\users\\97798\\anaconda3\\lib\\site-packages (from aiohttp>=3.7->ray[default]!=2.5.0,>=1.13.0->modin[ray]) (23.1.0)\n",
      "Requirement already satisfied: multidict<7.0,>=4.5 in c:\\users\\97798\\anaconda3\\lib\\site-packages (from aiohttp>=3.7->ray[default]!=2.5.0,>=1.13.0->modin[ray]) (5.1.0)\n",
      "Requirement already satisfied: colorama in c:\\users\\97798\\anaconda3\\lib\\site-packages (from click>=7.0->ray[default]!=2.5.0,>=1.13.0->modin[ray]) (0.4.4)\n",
      "Collecting nvidia-ml-py>=11.450.129\n",
      "  Downloading nvidia_ml_py-12.535.108-py3-none-any.whl (36 kB)\n",
      "Collecting blessed>=1.17.1\n",
      "  Downloading blessed-1.20.0-py2.py3-none-any.whl (58 kB)\n",
      "Collecting jinxed>=1.1.0\n",
      "  Downloading jinxed-1.2.0-py2.py3-none-any.whl (33 kB)\n",
      "Requirement already satisfied: wcwidth>=0.1.4 in c:\\users\\97798\\anaconda3\\lib\\site-packages (from blessed>=1.17.1->gpustat>=1.0.0->ray[default]!=2.5.0,>=1.13.0->modin[ray]) (0.2.5)\n",
      "Collecting ansicon\n",
      "  Downloading ansicon-1.89.0-py2.py3-none-any.whl (63 kB)\n",
      "Collecting platformdirs<4,>=2.4\n",
      "  Downloading platformdirs-3.10.0-py3-none-any.whl (17 kB)\n",
      "Collecting distlib<1,>=0.3.6\n",
      "  Downloading distlib-0.3.7-py2.py3-none-any.whl (468 kB)\n",
      "Requirement already satisfied: idna>=2.0 in c:\\users\\97798\\anaconda3\\lib\\site-packages (from yarl<2.0,>=1.0->aiohttp>=3.7->ray[default]!=2.5.0,>=1.13.0->modin[ray]) (3.4)\n",
      "Requirement already satisfied: pyrsistent!=0.17.0,!=0.17.1,!=0.17.2,>=0.14.0 in c:\\users\\97798\\anaconda3\\lib\\site-packages (from jsonschema->ray[default]!=2.5.0,>=1.13.0->modin[ray]) (0.18.0)\n",
      "Collecting opencensus-context>=0.1.3\n",
      "  Downloading opencensus_context-0.1.3-py2.py3-none-any.whl (5.1 kB)\n",
      "Requirement already satisfied: google-api-core<3.0.0,>=1.0.0 in c:\\users\\97798\\anaconda3\\lib\\site-packages (from opencensus->ray[default]!=2.5.0,>=1.13.0->modin[ray]) (1.25.1)\n",
      "Requirement already satisfied: googleapis-common-protos<2.0dev,>=1.6.0 in c:\\users\\97798\\anaconda3\\lib\\site-packages (from google-api-core<3.0.0,>=1.0.0->opencensus->ray[default]!=2.5.0,>=1.13.0->modin[ray]) (1.53.0)\n",
      "Requirement already satisfied: setuptools>=40.3.0 in c:\\users\\97798\\anaconda3\\lib\\site-packages (from google-api-core<3.0.0,>=1.0.0->opencensus->ray[default]!=2.5.0,>=1.13.0->modin[ray]) (61.2.0)\n",
      "Requirement already satisfied: google-auth<2.0dev,>=1.21.1 in c:\\users\\97798\\anaconda3\\lib\\site-packages (from google-api-core<3.0.0,>=1.0.0->opencensus->ray[default]!=2.5.0,>=1.13.0->modin[ray]) (1.33.0)\n",
      "Requirement already satisfied: pyasn1-modules>=0.2.1 in c:\\users\\97798\\anaconda3\\lib\\site-packages (from google-auth<2.0dev,>=1.21.1->google-api-core<3.0.0,>=1.0.0->opencensus->ray[default]!=2.5.0,>=1.13.0->modin[ray]) (0.2.8)\n",
      "Requirement already satisfied: cachetools<5.0,>=2.0.0 in c:\\users\\97798\\anaconda3\\lib\\site-packages (from google-auth<2.0dev,>=1.21.1->google-api-core<3.0.0,>=1.0.0->opencensus->ray[default]!=2.5.0,>=1.13.0->modin[ray]) (4.2.2)\n"
     ]
    },
    {
     "name": "stderr",
     "output_type": "stream",
     "text": [
      "WARNING: Ignoring invalid distribution -atplotlib (c:\\users\\97798\\anaconda3\\lib\\site-packages)\n",
      "WARNING: Ignoring invalid distribution -atplotlib (c:\\users\\97798\\anaconda3\\lib\\site-packages)\n",
      "WARNING: Ignoring invalid distribution -atplotlib (c:\\users\\97798\\anaconda3\\lib\\site-packages)\n",
      "WARNING: Ignoring invalid distribution -atplotlib (c:\\users\\97798\\anaconda3\\lib\\site-packages)\n",
      "WARNING: Ignoring invalid distribution -atplotlib (c:\\users\\97798\\anaconda3\\lib\\site-packages)\n",
      "WARNING: Ignoring invalid distribution -atplotlib (c:\\users\\97798\\anaconda3\\lib\\site-packages)\n",
      "WARNING: Ignoring invalid distribution -atplotlib (c:\\users\\97798\\anaconda3\\lib\\site-packages)\n",
      "WARNING: Ignoring invalid distribution -atplotlib (c:\\users\\97798\\anaconda3\\lib\\site-packages)\n",
      "WARNING: Ignoring invalid distribution -atplotlib (c:\\users\\97798\\anaconda3\\lib\\site-packages)\n",
      "WARNING: Ignoring invalid distribution -atplotlib (c:\\users\\97798\\anaconda3\\lib\\site-packages)\n",
      "WARNING: Ignoring invalid distribution -atplotlib (c:\\users\\97798\\anaconda3\\lib\\site-packages)\n",
      "WARNING: Ignoring invalid distribution -atplotlib (c:\\users\\97798\\anaconda3\\lib\\site-packages)\n",
      "WARNING: Ignoring invalid distribution -atplotlib (c:\\users\\97798\\anaconda3\\lib\\site-packages)\n",
      "WARNING: Ignoring invalid distribution -atplotlib (c:\\users\\97798\\anaconda3\\lib\\site-packages)\n",
      "WARNING: Ignoring invalid distribution -atplotlib (c:\\users\\97798\\anaconda3\\lib\\site-packages)\n",
      "WARNING: Ignoring invalid distribution -atplotlib (c:\\users\\97798\\anaconda3\\lib\\site-packages)\n",
      "WARNING: Ignoring invalid distribution -atplotlib (c:\\users\\97798\\anaconda3\\lib\\site-packages)\n",
      "WARNING: Ignoring invalid distribution -atplotlib (c:\\users\\97798\\anaconda3\\lib\\site-packages)\n",
      "WARNING: Ignoring invalid distribution -atplotlib (c:\\users\\97798\\anaconda3\\lib\\site-packages)\n",
      "WARNING: Ignoring invalid distribution -atplotlib (c:\\users\\97798\\anaconda3\\lib\\site-packages)\n",
      "WARNING: Ignoring invalid distribution -atplotlib (c:\\users\\97798\\anaconda3\\lib\\site-packages)\n",
      "WARNING: Ignoring invalid distribution -atplotlib (c:\\users\\97798\\anaconda3\\lib\\site-packages)\n"
     ]
    }
   ],
   "source": [
    "pip install modin[ray]\n"
   ]
  },
  {
   "cell_type": "code",
   "execution_count": 8,
   "id": "d8ec2d2a",
   "metadata": {},
   "outputs": [
    {
     "name": "stdout",
     "output_type": "stream",
     "text": [
      "Requirement already satisfied: rsa<5,>=3.1.4 in c:\\users\\97798\\anaconda3\\lib\\site-packages (from google-auth<2.0dev,>=1.21.1->google-api-core<3.0.0,>=1.0.0->opencensus->ray[default]!=2.5.0,>=1.13.0->modin[ray]) (4.7.2)\n",
      "Requirement already satisfied: pyasn1<0.5.0,>=0.4.6 in c:\\users\\97798\\anaconda3\\lib\\site-packages (from pyasn1-modules>=0.2.1->google-auth<2.0dev,>=1.21.1->google-api-core<3.0.0,>=1.0.0->opencensus->ray[default]!=2.5.0,>=1.13.0->modin[ray]) (0.4.8)\n",
      "Requirement already satisfied: certifi>=2017.4.17 in c:\\users\\97798\\anaconda3\\lib\\site-packages (from requests->ray[default]!=2.5.0,>=1.13.0->modin[ray]) (2023.5.7)\n",
      "Requirement already satisfied: urllib3<1.27,>=1.21.1 in c:\\users\\97798\\anaconda3\\lib\\site-packages (from requests->ray[default]!=2.5.0,>=1.13.0->modin[ray]) (1.26.16)\n",
      "Building wheels for collected packages: gpustat\n",
      "  Building wheel for gpustat (PEP 517): started\n",
      "  Building wheel for gpustat (PEP 517): finished with status 'done'\n",
      "  Created wheel for gpustat: filename=gpustat-1.1.1-py3-none-any.whl size=26445 sha256=507dd874794cef6a936f9ccc2d8642a593b0780f00b65ae78388f114b8c76f51\n",
      "  Stored in directory: c:\\users\\97798\\appdata\\local\\pip\\cache\\wheels\\12\\7d\\d7\\444dca5ad3c5ea8c4e00ff211673505e0214fa9b0303dbd3b6\n",
      "Successfully built gpustat\n",
      "Installing collected packages: ansicon, jinxed, platformdirs, opencensus-context, nvidia-ml-py, distlib, blessed, virtualenv, ray, py-spy, opencensus, gpustat, colorful, aiohttp-cors, pyarrow, modin\n",
      "Successfully installed aiohttp-cors-0.7.0 ansicon-1.89.0 blessed-1.20.0 colorful-0.5.5 distlib-0.3.7 gpustat-1.1.1 jinxed-1.2.0 modin-0.23.1 nvidia-ml-py-12.535.108 opencensus-0.11.2 opencensus-context-0.1.3 platformdirs-3.10.0 py-spy-0.3.14 pyarrow-13.0.0 ray-2.6.3 virtualenv-20.21.0\n",
      "Requirement already satisfied: modin[dask] in c:\\users\\97798\\anaconda3\\lib\\site-packages (0.23.1)\n",
      "Requirement already satisfied: fsspec>=2021.07.0 in c:\\users\\97798\\anaconda3\\lib\\site-packages (from modin[dask]) (2022.2.0)\n",
      "Requirement already satisfied: pandas<2.1,>=2 in c:\\users\\97798\\anaconda3\\lib\\site-packages (from modin[dask]) (2.0.3)\n",
      "Requirement already satisfied: psutil>=5.8.0 in c:\\users\\97798\\anaconda3\\lib\\site-packages (from modin[dask]) (5.8.0)\n",
      "Requirement already satisfied: packaging>=21.0 in c:\\users\\97798\\anaconda3\\lib\\site-packages (from modin[dask]) (21.3)\n",
      "Requirement already satisfied: numpy>=1.20.3 in c:\\users\\97798\\anaconda3\\lib\\site-packages (from modin[dask]) (1.23.5)\n",
      "Requirement already satisfied: dask>=2.22.0 in c:\\users\\97798\\anaconda3\\lib\\site-packages (from modin[dask]) (2023.9.1)\n",
      "Requirement already satisfied: distributed>=2.22.0 in c:\\users\\97798\\anaconda3\\lib\\site-packages (from modin[dask]) (2022.2.1)\n",
      "Requirement already satisfied: click>=8.0 in c:\\users\\97798\\anaconda3\\lib\\site-packages (from dask>=2.22.0->modin[dask]) (8.0.4)\n",
      "Requirement already satisfied: cloudpickle>=1.5.0 in c:\\users\\97798\\anaconda3\\lib\\site-packages (from dask>=2.22.0->modin[dask]) (2.0.0)\n",
      "Requirement already satisfied: importlib-metadata>=4.13.0 in c:\\users\\97798\\anaconda3\\lib\\site-packages (from dask>=2.22.0->modin[dask]) (6.8.0)\n",
      "Requirement already satisfied: partd>=1.2.0 in c:\\users\\97798\\anaconda3\\lib\\site-packages (from dask>=2.22.0->modin[dask]) (1.2.0)\n",
      "Requirement already satisfied: pyyaml>=5.3.1 in c:\\users\\97798\\anaconda3\\lib\\site-packages (from dask>=2.22.0->modin[dask]) (6.0)\n",
      "Requirement already satisfied: toolz>=0.10.0 in c:\\users\\97798\\anaconda3\\lib\\site-packages (from dask>=2.22.0->modin[dask]) (0.11.2)\n",
      "Requirement already satisfied: colorama in c:\\users\\97798\\anaconda3\\lib\\site-packages (from click>=8.0->dask>=2.22.0->modin[dask]) (0.4.4)\n",
      "Requirement already satisfied: tornado>=6.0.3 in c:\\users\\97798\\anaconda3\\lib\\site-packages (from distributed>=2.22.0->modin[dask]) (6.1)\n",
      "Requirement already satisfied: tblib>=1.6.0 in c:\\users\\97798\\anaconda3\\lib\\site-packages (from distributed>=2.22.0->modin[dask]) (1.7.0)\n",
      "Requirement already satisfied: sortedcontainers!=2.0.0,!=2.0.1 in c:\\users\\97798\\anaconda3\\lib\\site-packages (from distributed>=2.22.0->modin[dask]) (2.4.0)\n",
      "Requirement already satisfied: jinja2 in c:\\users\\97798\\anaconda3\\lib\\site-packages (from distributed>=2.22.0->modin[dask]) (2.11.3)\n",
      "Requirement already satisfied: zict>=0.1.3 in c:\\users\\97798\\anaconda3\\lib\\site-packages (from distributed>=2.22.0->modin[dask]) (2.0.0)Note: you may need to restart the kernel to use updated packages.\n"
     ]
    },
    {
     "name": "stderr",
     "output_type": "stream",
     "text": [
      "WARNING: Ignoring invalid distribution -atplotlib (c:\\users\\97798\\anaconda3\\lib\\site-packages)\n",
      "WARNING: Ignoring invalid distribution -atplotlib (c:\\users\\97798\\anaconda3\\lib\\site-packages)\n",
      "WARNING: Ignoring invalid distribution -atplotlib (c:\\users\\97798\\anaconda3\\lib\\site-packages)\n",
      "    WARNING: Ignoring invalid distribution -atplotlib (c:\\users\\97798\\anaconda3\\lib\\site-packages)\n",
      "WARNING: Ignoring invalid distribution -atplotlib (c:\\users\\97798\\anaconda3\\lib\\site-packages)\n",
      "WARNING: Ignoring invalid distribution -atplotlib (c:\\users\\97798\\anaconda3\\lib\\site-packages)\n",
      "WARNING: Ignoring invalid distribution -atplotlib (c:\\users\\97798\\anaconda3\\lib\\site-packages)\n",
      "WARNING: Ignoring invalid distribution -atplotlib (c:\\users\\97798\\anaconda3\\lib\\site-packages)\n"
     ]
    },
    {
     "name": "stdout",
     "output_type": "stream",
     "text": [
      "\n",
      "Collecting dask>=2.22.0\n",
      "  Downloading dask-2022.2.1-py3-none-any.whl (1.1 MB)\n",
      "Requirement already satisfied: setuptools in c:\\users\\97798\\anaconda3\\lib\\site-packages (from distributed>=2.22.0->modin[dask]) (61.2.0)\n",
      "Requirement already satisfied: msgpack>=0.6.0 in c:\\users\\97798\\anaconda3\\lib\\site-packages (from distributed>=2.22.0->modin[dask]) (1.0.2)\n",
      "Requirement already satisfied: zipp>=0.5 in c:\\users\\97798\\anaconda3\\lib\\site-packages (from importlib-metadata>=4.13.0->dask>=2.22.0->modin[dask]) (3.7.0)\n",
      "Requirement already satisfied: pyparsing!=3.0.5,>=2.0.2 in c:\\users\\97798\\anaconda3\\lib\\site-packages (from packaging>=21.0->modin[dask]) (3.0.4)\n",
      "Requirement already satisfied: pytz>=2020.1 in c:\\users\\97798\\anaconda3\\lib\\site-packages (from pandas<2.1,>=2->modin[dask]) (2021.3)\n",
      "Requirement already satisfied: python-dateutil>=2.8.2 in c:\\users\\97798\\anaconda3\\lib\\site-packages (from pandas<2.1,>=2->modin[dask]) (2.8.2)\n",
      "Requirement already satisfied: tzdata>=2022.1 in c:\\users\\97798\\anaconda3\\lib\\site-packages (from pandas<2.1,>=2->modin[dask]) (2023.3)\n",
      "Requirement already satisfied: locket in c:\\users\\97798\\anaconda3\\lib\\site-packages (from partd>=1.2.0->dask>=2.22.0->modin[dask]) (0.2.1)\n",
      "Requirement already satisfied: six>=1.5 in c:\\users\\97798\\anaconda3\\lib\\site-packages (from python-dateutil>=2.8.2->pandas<2.1,>=2->modin[dask]) (1.16.0)\n",
      "Requirement already satisfied: heapdict in c:\\users\\97798\\anaconda3\\lib\\site-packages (from zict>=0.1.3->distributed>=2.22.0->modin[dask]) (1.0.1)\n",
      "Requirement already satisfied: MarkupSafe>=0.23 in c:\\users\\97798\\anaconda3\\lib\\site-packages (from jinja2->distributed>=2.22.0->modin[dask]) (2.0.1)\n",
      "Installing collected packages: dask\n",
      "  Attempting uninstall: dask\n",
      "    Found existing installation: dask 2023.9.1\n",
      "    Uninstalling dask-2023.9.1:\n",
      "      Successfully uninstalled dask-2023.9.1\n",
      "Successfully installed dask-2022.2.1\n"
     ]
    }
   ],
   "source": [
    "pip install modin[dask]\n"
   ]
  },
  {
   "cell_type": "code",
   "execution_count": null,
   "id": "ed012480",
   "metadata": {},
   "outputs": [],
   "source": []
  }
 ],
 "metadata": {
  "kernelspec": {
   "display_name": "Python 3 (ipykernel)",
   "language": "python",
   "name": "python3"
  },
  "language_info": {
   "codemirror_mode": {
    "name": "ipython",
    "version": 3
   },
   "file_extension": ".py",
   "mimetype": "text/x-python",
   "name": "python",
   "nbconvert_exporter": "python",
   "pygments_lexer": "ipython3",
   "version": "3.9.12"
  }
 },
 "nbformat": 4,
 "nbformat_minor": 5
}
