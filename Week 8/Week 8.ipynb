{
 "cells": [
  {
   "cell_type": "code",
   "execution_count": 100,
   "id": "de84663e",
   "metadata": {},
   "outputs": [],
   "source": [
    "import numpy as np\n",
    "import pandas as pd\n",
    "import seaborn as sns\n",
    "from matplotlib import pyplot as plt"
   ]
  },
  {
   "cell_type": "code",
   "execution_count": 52,
   "id": "a89cea2b",
   "metadata": {},
   "outputs": [],
   "source": [
    "data = pd.read_csv(r\"C:\\Users\\97798\\Desktop\\ML\\Week 7\\bank-additional-full.csv\", delimiter=';')"
   ]
  },
  {
   "cell_type": "code",
   "execution_count": 72,
   "id": "6e4860e7",
   "metadata": {},
   "outputs": [
    {
     "data": {
      "text/plain": [
       "Index(['age', 'job', 'marital', 'education', 'default', 'housing', 'loan',\n",
       "       'contact', 'month', 'day_of_week', 'duration', 'campaign', 'pdays',\n",
       "       'previous', 'poutcome', 'emp.var.rate', 'cons.price.idx',\n",
       "       'cons.conf.idx', 'euribor3m', 'nr.employed', 'y'],\n",
       "      dtype='object')"
      ]
     },
     "execution_count": 72,
     "metadata": {},
     "output_type": "execute_result"
    }
   ],
   "source": [
    "data.columns"
   ]
  },
  {
   "cell_type": "code",
   "execution_count": 34,
   "id": "79e7c3d9",
   "metadata": {},
   "outputs": [],
   "source": [
    "data1 = pd.read_csv(r\"C:\\Users\\97798\\Desktop\\ML\\Week 7\\bank-full.csv\", delimiter =';')"
   ]
  },
  {
   "cell_type": "code",
   "execution_count": 91,
   "id": "75f09c68",
   "metadata": {},
   "outputs": [
    {
     "data": {
      "text/html": [
       "<div>\n",
       "<style scoped>\n",
       "    .dataframe tbody tr th:only-of-type {\n",
       "        vertical-align: middle;\n",
       "    }\n",
       "\n",
       "    .dataframe tbody tr th {\n",
       "        vertical-align: top;\n",
       "    }\n",
       "\n",
       "    .dataframe thead th {\n",
       "        text-align: right;\n",
       "    }\n",
       "</style>\n",
       "<table border=\"1\" class=\"dataframe\">\n",
       "  <thead>\n",
       "    <tr style=\"text-align: right;\">\n",
       "      <th></th>\n",
       "      <th>age</th>\n",
       "      <th>job</th>\n",
       "      <th>marital</th>\n",
       "      <th>education</th>\n",
       "      <th>default</th>\n",
       "      <th>housing</th>\n",
       "      <th>loan</th>\n",
       "      <th>contact</th>\n",
       "      <th>month</th>\n",
       "      <th>day_of_week</th>\n",
       "      <th>...</th>\n",
       "      <th>campaign</th>\n",
       "      <th>pdays</th>\n",
       "      <th>previous</th>\n",
       "      <th>poutcome</th>\n",
       "      <th>emp.var.rate</th>\n",
       "      <th>cons.price.idx</th>\n",
       "      <th>cons.conf.idx</th>\n",
       "      <th>euribor3m</th>\n",
       "      <th>nr.employed</th>\n",
       "      <th>y</th>\n",
       "    </tr>\n",
       "  </thead>\n",
       "  <tbody>\n",
       "  </tbody>\n",
       "</table>\n",
       "<p>0 rows × 21 columns</p>\n",
       "</div>"
      ],
      "text/plain": [
       "Empty DataFrame\n",
       "Columns: [age, job, marital, education, default, housing, loan, contact, month, day_of_week, duration, campaign, pdays, previous, poutcome, emp.var.rate, cons.price.idx, cons.conf.idx, euribor3m, nr.employed, y]\n",
       "Index: []\n",
       "\n",
       "[0 rows x 21 columns]"
      ]
     },
     "execution_count": 91,
     "metadata": {},
     "output_type": "execute_result"
    }
   ],
   "source": [
    "data[data.poutcome == 'unknown']"
   ]
  },
  {
   "cell_type": "code",
   "execution_count": 96,
   "id": "b62cea0b",
   "metadata": {},
   "outputs": [
    {
     "data": {
      "text/plain": [
       "0       -36.4\n",
       "1       -36.4\n",
       "2       -36.4\n",
       "3       -36.4\n",
       "4       -36.4\n",
       "         ... \n",
       "41183   -50.8\n",
       "41184   -50.8\n",
       "41185   -50.8\n",
       "41186   -50.8\n",
       "41187   -50.8\n",
       "Name: cons.conf.idx, Length: 41188, dtype: float64"
      ]
     },
     "execution_count": 96,
     "metadata": {},
     "output_type": "execute_result"
    }
   ],
   "source": [
    "data['cons.conf.idx']\n",
    "\n"
   ]
  },
  {
   "cell_type": "code",
   "execution_count": 82,
   "id": "ff5eaa1d",
   "metadata": {},
   "outputs": [
    {
     "data": {
      "text/plain": [
       "0"
      ]
     },
     "execution_count": 82,
     "metadata": {},
     "output_type": "execute_result"
    }
   ],
   "source": [
    "data.campaign.isna().sum()"
   ]
  },
  {
   "cell_type": "code",
   "execution_count": 85,
   "id": "8db43957",
   "metadata": {},
   "outputs": [],
   "source": [
    "import pandas as pd\n",
    "import numpy as np\n",
    "\n",
    "def count_outliers(df, col_name):\n",
    "    if col_name not in df.columns:\n",
    "        print(f\"Column '{col_name}' not found in the DataFrame.\")\n",
    "        return\n",
    "    \n",
    "    col = df[col_name]\n",
    "    \n",
    "    if str(col.dtype) != 'object':\n",
    "        outliers = df[~(np.abs(col - col.mean()) < (3 * col.std()))]\n",
    "        num_outliers = len(outliers)\n",
    "        \n",
    "        return num_outliers\n",
    "    else:\n",
    "        print(f\"Column '{col_name}' is of object type and cannot have outliers.\")\n",
    "        return 0\n",
    "\n",
    "# Example usage:\n",
    "\n"
   ]
  },
  {
   "cell_type": "code",
   "execution_count": 89,
   "id": "e0249bf2",
   "metadata": {},
   "outputs": [
    {
     "name": "stdout",
     "output_type": "stream",
     "text": [
      "Number of outliers in 'age': 1064\n"
     ]
    }
   ],
   "source": [
    "# Assuming you have a DataFrame named 'data1' with a column 'age'\n",
    "num_outliers_age = count_outliers(data, 'previous')\n",
    "print(f\"Number of outliers in 'age': {num_outliers_age}\")"
   ]
  },
  {
   "cell_type": "code",
   "execution_count": 87,
   "id": "248fe35d",
   "metadata": {},
   "outputs": [
    {
     "name": "stdout",
     "output_type": "stream",
     "text": [
      "Number of unknown values in 'job': 0\n"
     ]
    }
   ],
   "source": [
    "def count_unknown_values(df, col_name):\n",
    "    if col_name not in df.columns:\n",
    "        print(f\"Column '{col_name}' not found in the DataFrame.\")\n",
    "        return\n",
    "    \n",
    "    col = df[col_name]\n",
    "    num_unknown_values = col.isnull().sum()\n",
    "    \n",
    "    print(f\"Number of unknown values in '{col_name}': {num_unknown_values}\")\n",
    "    \n",
    "# Example usage:\n",
    "# Assuming you have a DataFrame named 'data1' with a column 'job'\n",
    "count_unknown_values(data1, 'job')"
   ]
  },
  {
   "cell_type": "code",
   "execution_count": 103,
   "id": "b035325a",
   "metadata": {},
   "outputs": [],
   "source": [
    "import seaborn as sns"
   ]
  },
  {
   "cell_type": "code",
   "execution_count": 108,
   "id": "8e9d7f13",
   "metadata": {},
   "outputs": [
    {
     "data": {
      "text/plain": [
       "<Axes: ylabel='count'>"
      ]
     },
     "execution_count": 108,
     "metadata": {},
     "output_type": "execute_result"
    },
    {
     "data": {
      "image/png": "[encoded data removed]",
      "text/plain": [
       "<Figure size 432x288 with 1 Axes>"
      ]
     },
     "metadata": {},
     "output_type": "display_data"
    }
   ],
   "source": [
    "data.y.value_counts().plot(kind = 'pie', autopct='%1.1f%%', startangle=90)\n"
   ]
  },
  {
   "cell_type": "code",
   "execution_count": 117,
   "id": "64074656",
   "metadata": {},
   "outputs": [
    {
     "data": {
      "image/png": "[encoded data removed]",
      "text/plain": [
       "<Figure size 432x432 with 1 Axes>"
      ]
     },
     "metadata": {},
     "output_type": "display_data"
    }
   ],
   "source": [
    "import matplotlib.pyplot as plt\n",
    "plt.figure(figsize=(6,6))\n",
    "# Assuming you have a pandas Series with value counts already calculated\n",
    "value_counts = data.y.value_counts()\n",
    "\n",
    "# Define custom colors\n",
    "colors = ['green', 'lightcoral', 'lightskyblue']\n",
    "\n",
    "# Define labels for each category\n",
    "labels = value_counts.index\n",
    "\n",
    "# Calculate the explode parameter based on the number of categories\n",
    "explode = (0.1,) * len(value_counts)  # Explode all slices by the same amount (e.g., 0.1)\n",
    "\n",
    "# Create a pie chart with customizations\n",
    "plt.pie(value_counts, labels=labels, colors=colors, autopct='%1.1f%%', startangle=90, explode=explode)\n",
    "\n",
    "# Add a title\n",
    "plt.title('Distribution of Categories')\n",
    "\n",
    "# Display the chart\n",
    "plt.axis('equal')  # Equal aspect ratio ensures the pie chart is a circle\n",
    "plt.show()\n"
   ]
  },
  {
   "cell_type": "code",
   "execution_count": null,
   "id": "afd230c2",
   "metadata": {},
   "outputs": [],
   "source": []
  }
 ],
 "metadata": {
  "kernelspec": {
   "display_name": "Python 3 (ipykernel)",
   "language": "python",
   "name": "python3"
  },
  "language_info": {
   "codemirror_mode": {
    "name": "ipython",
    "version": 3
   },
   "file_extension": ".py",
   "mimetype": "text/x-python",
   "name": "python",
   "nbconvert_exporter": "python",
   "pygments_lexer": "ipython3",
   "version": "3.9.12"
  }
 },
 "nbformat": 4,
 "nbformat_minor": 5
}
